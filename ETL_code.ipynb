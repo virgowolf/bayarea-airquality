{
 "cells": [
  {
   "cell_type": "code",
   "execution_count": null,
   "id": "c01519df-9d22-43a6-9ca3-9fe2242900b2",
   "metadata": {},
   "outputs": [],
   "source": [
    "#Import dependecies\n",
    "import pandas as pd\n",
    "import numpy as np\n",
    "import matplotlib\n",
    "from datetime import datetime as dt"
   ]
  },
  {
   "cell_type": "code",
   "execution_count": null,
   "id": "907d120a-6d74-4470-996b-6a83a77e1781",
   "metadata": {},
   "outputs": [],
   "source": [
    "#Extract data from csvs on carbon metrics from 2020\n",
    "carbon_df = pd.read_csv('input_data/carbon.csv')\n",
    "\n",
    "# Rename first column to 'city' for common primary key and county column as well for consistency\n",
    "carbon_df = carbon_df.rename(columns ={'carbon_city': 'city', 'carbon_county': 'county'})\n",
    "\n",
    "# Convert date from object to datetime format\n",
    "carbon_df[\"carbon_date\"] = pd.to_datetime(carbon_df[\"carbon_date\"], format='%m/%d/%Y')\n",
    "\n",
    "carbon_df.head()"
   ]
  },
  {
   "cell_type": "code",
   "execution_count": null,
   "id": "9d985b38-1b3f-4c48-8018-2bca0caf2526",
   "metadata": {},
   "outputs": [],
   "source": [
    "print(carbon_df.dtypes)"
   ]
  },
  {
   "cell_type": "code",
   "execution_count": null,
   "id": "e6bc6386-9ebb-4751-a16b-32eb769dd670",
   "metadata": {},
   "outputs": [],
   "source": [
    "#Extract data from csvs on nitrogen metrics from 2020\n",
    "nitrogen_df = pd.read_csv('input_data/nitrogen1.csv')\n",
    "\n",
    "# Rename first column to 'city' for common primary key and county column as well for consistency\n",
    "nitrogen_df = nitrogen_df.rename(columns ={'nitrogen_city': 'city', 'nitrogen_county': 'county'})\n",
    "\n",
    "# Convert date from object to datetime format\n",
    "nitrogen_df[\"nitrogen_date\"] = pd.to_datetime(nitrogen_df[\"nitrogen_date\"]).dt.strftime('%y-%m-%d')\n",
    "\n",
    "nitrogen_df.head()"
   ]
  },
  {
   "cell_type": "code",
   "execution_count": null,
   "id": "b832f739-ef80-4d4c-b39c-c4322eacb632",
   "metadata": {},
   "outputs": [],
   "source": [
    "#Extract data from csvs on ozone metrics from 2020\n",
    "ozone_df = pd.read_csv('input_data/ozone1.csv')\n",
    "\n",
    "# Rename first column to 'city' for common primary key and county column as well for consistency\n",
    "ozone_df = ozone_df.rename(columns ={'ozone_city': 'city', 'ozone_county': 'county'})\n",
    "\n",
    "# Convert date from object to datetime format\n",
    "ozone_df[\"ozone_date\"] = pd.to_datetime(ozone_df[\"ozone_date\"]).dt.strftime('%y-%m-%d')\n",
    "\n",
    "ozone_df.head()"
   ]
  },
  {
   "cell_type": "code",
   "execution_count": null,
   "id": "6a540e1d-29d8-4daa-8683-8fd3503cc203",
   "metadata": {},
   "outputs": [],
   "source": [
    "#Extract data from csvs on particulate matter 10 (with a diameter of 10 microns or less ) metrics from 2020\n",
    "pm10_df = pd.read_csv('input_data/pm10_1.csv')\n",
    "\n",
    "# Rename first column to 'city' for common primary key and county column as well for consistency\n",
    "pm10_df = pm10_df.rename(columns ={'10_city': 'city', '10_county': 'county'})\n",
    "\n",
    "# Convert date from object to datetime format\n",
    "pm10_df[\"pm_10_date\"] = pd.to_datetime(pm10_df[\"pm_10_date\"]).dt.strftime('%y-%m-%d')\n",
    "\n",
    "pm10_df.head()"
   ]
  },
  {
   "cell_type": "code",
   "execution_count": null,
   "id": "ca493b62-3882-4c68-874e-706d681ac13f",
   "metadata": {},
   "outputs": [],
   "source": [
    "#Extract data from csvs on particulate matter 25 (with a diameter of 25 microns or less) metrics from 2020\n",
    "pm25_df = pd.read_csv('input_data/pm25_1.csv')\n",
    "\n",
    "# Rename first column to 'city' for common primary key and county column as well for consistency\n",
    "pm25_df = pm25_df.rename(columns ={'25_city': 'city', '25_county': 'county'})\n",
    "\n",
    "# Convert date from object to datetime format\n",
    "pm25_df[\"pm_25_date\"] = pd.to_datetime(pm25_df[\"pm_25_date\"]).dt.strftime('%y-%m-%d')\n",
    "\n",
    "pm25_df.head()"
   ]
  },
  {
   "cell_type": "code",
   "execution_count": null,
   "id": "62471d82-9eb5-4940-b232-efcc0ef03cff",
   "metadata": {},
   "outputs": [],
   "source": [
    "#Extract data from csvs on sulfur metrics from 2020\n",
    "sulfur_df = pd.read_csv('input_data/sulfur1.csv')\n",
    "\n",
    "# Rename first column to 'city' for common primary key and county column as well for consistency\n",
    "sulfur_df = sulfur_df.rename(columns ={'sulfur_city': 'city', 'sulfur_county': 'county'})\n",
    "\n",
    "# Convert date from object to datetime format\n",
    "sulfur_df[\"sulfur_date\"] = pd.to_datetime(sulfur_df[\"sulfur_date\"]).dt.strftime('%y-%m-%d')\n",
    "\n",
    "sulfur_df.head()"
   ]
  },
  {
   "cell_type": "code",
   "execution_count": null,
   "id": "738522ae-e5d6-4e6b-8b66-5ef2abee698a",
   "metadata": {},
   "outputs": [],
   "source": [
    "carbon_df.dtypes[\"carbon_date\"]"
   ]
  },
  {
   "cell_type": "code",
   "execution_count": null,
   "id": "5931c3d1-74ec-4d91-b639-10ed97d8461d",
   "metadata": {},
   "outputs": [],
   "source": [
    "# Calculate the median AQI for all pollutant types by month\n",
    "#Carbon\n",
    "carbon_jan = carbon_df[(carbon_df['carbon_date'] >= '20-01-01' & ['carbon_date'] <= '20-01-31')]\n",
    "median_carbon_jan = carbon_jan['carbon_mean'].median()\n",
    "print(median_carbon_jan)"
   ]
  },
  {
   "cell_type": "code",
   "execution_count": null,
   "id": "b6750e9e-4eaa-4cf7-b05b-2c7b15103353",
   "metadata": {},
   "outputs": [],
   "source": []
  }
 ],
 "metadata": {
  "kernelspec": {
   "display_name": "Python 3 (ipykernel)",
   "language": "python",
   "name": "python3"
  },
  "language_info": {
   "codemirror_mode": {
    "name": "ipython",
    "version": 3
   },
   "file_extension": ".py",
   "mimetype": "text/x-python",
   "name": "python",
   "nbconvert_exporter": "python",
   "pygments_lexer": "ipython3",
   "version": "3.10.13"
  }
 },
 "nbformat": 4,
 "nbformat_minor": 5
}
