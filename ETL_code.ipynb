{
 "cells": [
  {
   "cell_type": "code",
   "execution_count": null,
   "id": "c01519df-9d22-43a6-9ca3-9fe2242900b2",
   "metadata": {},
   "outputs": [],
   "source": [
    "#Import dependecies\n",
    "import pandas as pd\n",
    "import numpy as np\n",
    "import matplotlib\n"
   ]
  },
  {
   "cell_type": "code",
   "execution_count": null,
   "id": "907d120a-6d74-4470-996b-6a83a77e1781",
   "metadata": {},
   "outputs": [],
   "source": [
    "#Extract data from csvs on air quality metrics from 2020\n",
    "\n",
    "#Read the "
   ]
  }
 ],
 "metadata": {
  "kernelspec": {
   "display_name": "Python 3 (ipykernel)",
   "language": "python",
   "name": "python3"
  },
  "language_info": {
   "codemirror_mode": {
    "name": "ipython",
    "version": 3
   },
   "file_extension": ".py",
   "mimetype": "text/x-python",
   "name": "python",
   "nbconvert_exporter": "python",
   "pygments_lexer": "ipython3",
   "version": "3.10.13"
  }
 },
 "nbformat": 4,
 "nbformat_minor": 5
}
