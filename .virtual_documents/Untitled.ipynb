#Import dependecies
import pandas as pd
import numpy as np
import matplotlib



#Extract data from csvs on air quality metrics from 2020

#Read the 
